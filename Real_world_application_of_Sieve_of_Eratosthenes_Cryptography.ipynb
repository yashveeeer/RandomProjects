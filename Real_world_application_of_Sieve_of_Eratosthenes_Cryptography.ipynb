{
  "nbformat": 4,
  "nbformat_minor": 0,
  "metadata": {
    "colab": {
      "provenance": [],
      "authorship_tag": "ABX9TyNxwSJGq4n9mx6a6lEd0aN1",
      "include_colab_link": true
    },
    "kernelspec": {
      "name": "python3",
      "display_name": "Python 3"
    },
    "language_info": {
      "name": "python"
    }
  },
  "cells": [
    {
      "cell_type": "markdown",
      "metadata": {
        "id": "view-in-github",
        "colab_type": "text"
      },
      "source": [
        "<a href=\"https://colab.research.google.com/github/yashveeeer/RandomProjects/blob/main/Real_world_application_of_Sieve_of_Eratosthenes_Cryptography.ipynb\" target=\"_parent\"><img src=\"https://colab.research.google.com/assets/colab-badge.svg\" alt=\"Open In Colab\"/></a>"
      ]
    },
    {
      "cell_type": "code",
      "execution_count": 1,
      "metadata": {
        "id": "nGv8DMyo3xbk"
      },
      "outputs": [],
      "source": [
        "def sieve_of_eratosthenes(n):\n",
        "    primes = [True] * (n + 1)\n",
        "    p = 2\n",
        "    while (p * p <= n):\n",
        "        if primes[p] == True:\n",
        "            for i in range(p * p, n + 1, p):\n",
        "                primes[i] = False\n",
        "        p += 1\n",
        "    prime_numbers = [p for p in range(2, n + 1) if primes[p]]\n",
        "    return prime_numbers"
      ]
    },
    {
      "cell_type": "code",
      "source": [
        "# Example usage:\n",
        "n = 100\n",
        "prime_numbers = sieve_of_eratosthenes(n)\n",
        "print(f\"Prime numbers up to {n}: {prime_numbers}\")"
      ],
      "metadata": {
        "colab": {
          "base_uri": "https://localhost:8080/"
        },
        "id": "81OzhsKx4XzB",
        "outputId": "7e5d0ca8-5741-41d4-9e59-5b0503504eea"
      },
      "execution_count": 2,
      "outputs": [
        {
          "output_type": "stream",
          "name": "stdout",
          "text": [
            "Prime numbers up to 100: [2, 3, 5, 7, 11, 13, 17, 19, 23, 29, 31, 37, 41, 43, 47, 53, 59, 61, 67, 71, 73, 79, 83, 89, 97]\n"
          ]
        }
      ]
    },
    {
      "cell_type": "markdown",
      "source": [
        "Prime numbers play a crucial role in cryptography, especially in algorithms like RSA (Rivest–Shamir–Adleman). In RSA encryption, two large prime numbers are used to generate a public and a private key. The security of RSA relies on the difficulty of factoring the product of these two large prime numbers.\n",
        "\n",
        "Let's simulate a simple example where we use the Sieve of Eratosthenes to find large prime numbers for cryptographic purposes."
      ],
      "metadata": {
        "id": "ITg6OLHN4frW"
      }
    },
    {
      "cell_type": "code",
      "source": [
        "import random\n",
        "\n",
        "def generate_large_primes(limit):\n",
        "    primes = sieve_of_eratosthenes(limit)\n",
        "    return primes\n",
        "\n",
        "def generate_rsa_keys():\n",
        "    limit = 1000\n",
        "    primes = generate_large_primes(limit)\n",
        "    p = random.choice(primes)\n",
        "    q = random.choice(primes)\n",
        "    while q == p:\n",
        "        q = random.choice(primes)\n",
        "\n",
        "    n = p * q\n",
        "    phi = (p - 1) * (q - 1)\n",
        "\n",
        "    # Choose e such that 1 < e < phi and gcd(e, phi) == 1\n",
        "    e = random.choice([x for x in primes if x < phi and gcd(x, phi) == 1])\n",
        "\n",
        "    # Compute d, the modular multiplicative inverse of e modulo phi\n",
        "    d = mod_inverse(e, phi)\n",
        "\n",
        "    public_key = (e, n)\n",
        "    private_key = (d, n)\n",
        "\n",
        "    return public_key, private_key\n"
      ],
      "metadata": {
        "id": "02WqPGna4Zwg"
      },
      "execution_count": 4,
      "outputs": []
    },
    {
      "cell_type": "code",
      "source": [
        "def gcd(a, b):\n",
        "    while b:\n",
        "        a, b = b, a % b\n",
        "    return a\n",
        "\n",
        "def mod_inverse(e, phi):\n",
        "    # Extended Euclidean Algorithm to find modular inverse\n",
        "    m0, x0, x1 = phi, 0, 1\n",
        "    while e > 1:\n",
        "        q = e // phi\n",
        "        m0, e = e, m0 % e\n",
        "        x0, x1 = x1 - q * x0, x0\n",
        "    if x1 < 0:\n",
        "        x1 += phi\n",
        "    return x1"
      ],
      "metadata": {
        "id": "nBynywNx4qc5"
      },
      "execution_count": 5,
      "outputs": []
    },
    {
      "cell_type": "code",
      "source": [
        "# Generate RSA keys\n",
        "public_key, private_key = generate_rsa_keys()\n",
        "print(f\"Public Key: {public_key}\")\n",
        "print(f\"Private Key: {private_key}\")"
      ],
      "metadata": {
        "colab": {
          "base_uri": "https://localhost:8080/"
        },
        "id": "x3JK4FnN40jq",
        "outputId": "532e656e-5bad-4cf5-82b0-636a73592e43"
      },
      "execution_count": 6,
      "outputs": [
        {
          "output_type": "stream",
          "name": "stdout",
          "text": [
            "Public Key: (97, 102691)\n",
            "Private Key: (1, 102691)\n"
          ]
        }
      ]
    },
    {
      "cell_type": "markdown",
      "source": [
        "## Explanation\n",
        "\n",
        "### Prime Generation\n",
        "We generate prime numbers up to a limit using the Sieve of Eratosthenes.\n",
        "\n",
        "### Key Selection\n",
        "We randomly select two large primes.\n",
        "\n",
        "### Key Computation\n",
        "We compute the RSA modulus \\( n \\), the totient \\( \\phi \\), the public exponent \\( e \\), and the private exponent \\( d \\) using modular arithmetic.\n",
        "\n",
        "This implementation is a simplified version and uses smaller primes for illustration purposes. In practice, RSA keys are generated using much larger primes (hundreds of digits long) to ensure security.\n"
      ],
      "metadata": {
        "id": "U5RVmVKZ4_cB"
      }
    }
  ]
}