{
  "nbformat": 4,
  "nbformat_minor": 0,
  "metadata": {
    "colab": {
      "provenance": [],
      "include_colab_link": true
    },
    "kernelspec": {
      "name": "python3",
      "display_name": "Python 3"
    },
    "language_info": {
      "name": "python"
    }
  },
  "cells": [
    {
      "cell_type": "markdown",
      "metadata": {
        "id": "view-in-github",
        "colab_type": "text"
      },
      "source": [
        "<a href=\"https://colab.research.google.com/github/yashveeeer/RandomProjects/blob/main/Table_Extracter.ipynb\" target=\"_parent\"><img src=\"https://colab.research.google.com/assets/colab-badge.svg\" alt=\"Open In Colab\"/></a>"
      ]
    },
    {
      "cell_type": "code",
      "execution_count": null,
      "metadata": {
        "colab": {
          "base_uri": "https://localhost:8080/"
        },
        "id": "MwLHfFH7iYWE",
        "outputId": "49c1f08a-28bf-43c2-d6db-2cac34cecbd6"
      },
      "outputs": [
        {
          "output_type": "stream",
          "name": "stdout",
          "text": [
            "Collecting tabula-py\n",
            "  Downloading tabula_py-2.7.0-py3-none-any.whl (12.0 MB)\n",
            "\u001b[2K     \u001b[90m━━━━━━━━━━━━━━━━━━━━━━━━━━━━━━━━━━━━━━━━\u001b[0m \u001b[32m12.0/12.0 MB\u001b[0m \u001b[31m56.5 MB/s\u001b[0m eta \u001b[36m0:00:00\u001b[0m\n",
            "\u001b[?25hRequirement already satisfied: pandas>=0.25.3 in /usr/local/lib/python3.10/dist-packages (from tabula-py) (1.5.3)\n",
            "Requirement already satisfied: numpy in /usr/local/lib/python3.10/dist-packages (from tabula-py) (1.22.4)\n",
            "Collecting distro (from tabula-py)\n",
            "  Downloading distro-1.8.0-py3-none-any.whl (20 kB)\n",
            "Requirement already satisfied: python-dateutil>=2.8.1 in /usr/local/lib/python3.10/dist-packages (from pandas>=0.25.3->tabula-py) (2.8.2)\n",
            "Requirement already satisfied: pytz>=2020.1 in /usr/local/lib/python3.10/dist-packages (from pandas>=0.25.3->tabula-py) (2022.7.1)\n",
            "Requirement already satisfied: six>=1.5 in /usr/local/lib/python3.10/dist-packages (from python-dateutil>=2.8.1->pandas>=0.25.3->tabula-py) (1.16.0)\n",
            "Installing collected packages: distro, tabula-py\n",
            "Successfully installed distro-1.8.0 tabula-py-2.7.0\n"
          ]
        }
      ],
      "source": [
        "!pip install tabula-py"
      ]
    },
    {
      "cell_type": "code",
      "source": [
        "import tabula\n",
        "\n",
        "def extract_table_from_pdf(pdf_path, page_number):\n",
        "    \"\"\"\n",
        "    Extracts the table from a specific page of a PDF.\n",
        "\n",
        "    Args:\n",
        "        pdf_path (str): Path to the PDF file.\n",
        "        page_number (int): Page number from which to extract the table (1-indexed).\n",
        "\n",
        "    Returns:\n",
        "        list: List of lists representing the table, or None if no table is found.\n",
        "    \"\"\"\n",
        "    try:\n",
        "        # Use tabula to extract the tables from the specified page.\n",
        "        tables = tabula.read_pdf(pdf_path, pages=page_number, multiple_tables=True, stream=True)\n",
        "\n",
        "        if tables:\n",
        "            # For simplicity, assuming the first table in the page is the target table.\n",
        "            # You can further analyze and choose the appropriate table if multiple tables are found.\n",
        "            target_table = tables[0]\n",
        "\n",
        "            # Convert the DataFrame to a list of lists.\n",
        "            extracted_table = target_table.values.tolist()\n",
        "\n",
        "            # Remove empty rows from the extracted table.\n",
        "            extracted_table = [row for row in extracted_table if any(isinstance(cell, str) and cell.strip() for cell in row)]\n",
        "\n",
        "            return extracted_table\n",
        "\n",
        "    except Exception as e:\n",
        "        print(f\"Error occurred while extracting the table: {e}\")\n",
        "\n",
        "    return None\n",
        "\n",
        "# Example usage:\n",
        "pdf_file_path = \"/content/AISHE Final Report 2020-21.pdf\"\n",
        "page_number_to_extract = 51\n",
        "\n",
        "table = extract_table_from_pdf(pdf_file_path, page_number_to_extract)\n",
        "if table:\n",
        "    for row in table:\n",
        "        print(row)\n",
        "else:\n",
        "    print(\"No table found on the specified page.\")"
      ],
      "metadata": {
        "colab": {
          "base_uri": "https://localhost:8080/"
        },
        "id": "Udju6rkElOpm",
        "outputId": "6b534acc-c32c-4c3a-ab23-0a0e3f805987"
      },
      "execution_count": null,
      "outputs": [
        {
          "output_type": "stream",
          "name": "stdout",
          "text": [
            "[nan, 'Academic', nan, 'Professional', nan]\n",
            "['Level', 'Management', nan, nan, nan]\n",
            "[nan, 'Male Female Total Male', nan, 'Female', 'Total']\n",
            "[nan, 'Government 5563993 5699193 11263186 1063598', nan, '693806', '1757404']\n",
            "['Under', nan, nan, nan, nan]\n",
            "[nan, 'Government-Aided 2161695 2466707 4628402 411225', nan, '346323', '757548']\n",
            "['Graduate', nan, nan, nan, nan]\n",
            "[nan, 'Private 3140890 3262765 6403655 3628170', nan, '2608620', '6236790']\n",
            "[nan, 'Government 789418 1194473 1983891 266208', nan, '205386', '471594']\n",
            "['Post', nan, nan, nan, nan]\n",
            "[nan, 'Government-Aided 163045 316329 479374 38494', nan, '39963', '78457']\n",
            "['Graduate', nan, nan, nan, nan]\n",
            "[nan, 'Private 229420 356927 586347 430501', nan, '368415', '798916']\n"
          ]
        }
      ]
    },
    {
      "cell_type": "code",
      "source": [],
      "metadata": {
        "colab": {
          "base_uri": "https://localhost:8080/",
          "height": 658
        },
        "id": "XalWqdVronBG",
        "outputId": "d651682c-0c2c-49a2-9768-9e30b76da736"
      },
      "execution_count": null,
      "outputs": [
        {
          "output_type": "stream",
          "name": "stdout",
          "text": [
            "[nan, 'Academic', nan, 'Professional', nan]\n",
            "['Level', 'Management', nan, nan, nan]\n",
            "[nan, 'Male Female Total Male', nan, 'Female', 'Total']\n",
            "[nan, 'Government 5563993 5699193 11263186 1063598', nan, '693806', '1757404']\n",
            "['Under', nan, nan, nan, nan]\n",
            "[nan, 'Government-Aided 2161695 2466707 4628402 411225', nan, '346323', '757548']\n",
            "['Graduate', nan, nan, nan, nan]\n",
            "[nan, 'Private 3140890 3262765 6403655 3628170', nan, '2608620', '6236790']\n",
            "[nan, 'Government 789418 1194473 1983891 266208', nan, '205386', '471594']\n",
            "['Post', nan, nan, nan, nan]\n",
            "[nan, 'Government-Aided 163045 316329 479374 38494', nan, '39963', '78457']\n",
            "['Graduate', nan, nan, nan, nan]\n",
            "[nan, 'Private 229420 356927 586347 430501', nan, '368415', '798916']\n"
          ]
        },
        {
          "output_type": "error",
          "ename": "ValueError",
          "evalue": "ignored",
          "traceback": [
            "\u001b[0;31m---------------------------------------------------------------------------\u001b[0m",
            "\u001b[0;31mOptionError\u001b[0m                               Traceback (most recent call last)",
            "\u001b[0;32m/usr/local/lib/python3.10/dist-packages/pandas/io/excel/_base.py\u001b[0m in \u001b[0;36m__new__\u001b[0;34m(cls, path, engine, date_format, datetime_format, mode, storage_options, if_sheet_exists, engine_kwargs, **kwargs)\u001b[0m\n\u001b[1;32m   1143\u001b[0m                 \u001b[0;32mtry\u001b[0m\u001b[0;34m:\u001b[0m\u001b[0;34m\u001b[0m\u001b[0;34m\u001b[0m\u001b[0m\n\u001b[0;32m-> 1144\u001b[0;31m                     \u001b[0mengine\u001b[0m \u001b[0;34m=\u001b[0m \u001b[0mconfig\u001b[0m\u001b[0;34m.\u001b[0m\u001b[0mget_option\u001b[0m\u001b[0;34m(\u001b[0m\u001b[0;34mf\"io.excel.{ext}.writer\"\u001b[0m\u001b[0;34m,\u001b[0m \u001b[0msilent\u001b[0m\u001b[0;34m=\u001b[0m\u001b[0;32mTrue\u001b[0m\u001b[0;34m)\u001b[0m\u001b[0;34m\u001b[0m\u001b[0;34m\u001b[0m\u001b[0m\n\u001b[0m\u001b[1;32m   1145\u001b[0m                     \u001b[0;32mif\u001b[0m \u001b[0mengine\u001b[0m \u001b[0;34m==\u001b[0m \u001b[0;34m\"auto\"\u001b[0m\u001b[0;34m:\u001b[0m\u001b[0;34m\u001b[0m\u001b[0;34m\u001b[0m\u001b[0m\n",
            "\u001b[0;32m/usr/local/lib/python3.10/dist-packages/pandas/_config/config.py\u001b[0m in \u001b[0;36m__call__\u001b[0;34m(self, *args, **kwds)\u001b[0m\n\u001b[1;32m    262\u001b[0m     \u001b[0;32mdef\u001b[0m \u001b[0m__call__\u001b[0m\u001b[0;34m(\u001b[0m\u001b[0mself\u001b[0m\u001b[0;34m,\u001b[0m \u001b[0;34m*\u001b[0m\u001b[0margs\u001b[0m\u001b[0;34m,\u001b[0m \u001b[0;34m**\u001b[0m\u001b[0mkwds\u001b[0m\u001b[0;34m)\u001b[0m \u001b[0;34m->\u001b[0m \u001b[0mT\u001b[0m\u001b[0;34m:\u001b[0m\u001b[0;34m\u001b[0m\u001b[0;34m\u001b[0m\u001b[0m\n\u001b[0;32m--> 263\u001b[0;31m         \u001b[0;32mreturn\u001b[0m \u001b[0mself\u001b[0m\u001b[0;34m.\u001b[0m\u001b[0m__func__\u001b[0m\u001b[0;34m(\u001b[0m\u001b[0;34m*\u001b[0m\u001b[0margs\u001b[0m\u001b[0;34m,\u001b[0m \u001b[0;34m**\u001b[0m\u001b[0mkwds\u001b[0m\u001b[0;34m)\u001b[0m\u001b[0;34m\u001b[0m\u001b[0;34m\u001b[0m\u001b[0m\n\u001b[0m\u001b[1;32m    264\u001b[0m \u001b[0;34m\u001b[0m\u001b[0m\n",
            "\u001b[0;32m/usr/local/lib/python3.10/dist-packages/pandas/_config/config.py\u001b[0m in \u001b[0;36m_get_option\u001b[0;34m(pat, silent)\u001b[0m\n\u001b[1;32m    134\u001b[0m \u001b[0;32mdef\u001b[0m \u001b[0m_get_option\u001b[0m\u001b[0;34m(\u001b[0m\u001b[0mpat\u001b[0m\u001b[0;34m:\u001b[0m \u001b[0mstr\u001b[0m\u001b[0;34m,\u001b[0m \u001b[0msilent\u001b[0m\u001b[0;34m:\u001b[0m \u001b[0mbool\u001b[0m \u001b[0;34m=\u001b[0m \u001b[0;32mFalse\u001b[0m\u001b[0;34m)\u001b[0m \u001b[0;34m->\u001b[0m \u001b[0mAny\u001b[0m\u001b[0;34m:\u001b[0m\u001b[0;34m\u001b[0m\u001b[0;34m\u001b[0m\u001b[0m\n\u001b[0;32m--> 135\u001b[0;31m     \u001b[0mkey\u001b[0m \u001b[0;34m=\u001b[0m \u001b[0m_get_single_key\u001b[0m\u001b[0;34m(\u001b[0m\u001b[0mpat\u001b[0m\u001b[0;34m,\u001b[0m \u001b[0msilent\u001b[0m\u001b[0;34m)\u001b[0m\u001b[0;34m\u001b[0m\u001b[0;34m\u001b[0m\u001b[0m\n\u001b[0m\u001b[1;32m    136\u001b[0m \u001b[0;34m\u001b[0m\u001b[0m\n",
            "\u001b[0;32m/usr/local/lib/python3.10/dist-packages/pandas/_config/config.py\u001b[0m in \u001b[0;36m_get_single_key\u001b[0;34m(pat, silent)\u001b[0m\n\u001b[1;32m    120\u001b[0m             \u001b[0m_warn_if_deprecated\u001b[0m\u001b[0;34m(\u001b[0m\u001b[0mpat\u001b[0m\u001b[0;34m)\u001b[0m\u001b[0;34m\u001b[0m\u001b[0;34m\u001b[0m\u001b[0m\n\u001b[0;32m--> 121\u001b[0;31m         \u001b[0;32mraise\u001b[0m \u001b[0mOptionError\u001b[0m\u001b[0;34m(\u001b[0m\u001b[0;34mf\"No such keys(s): {repr(pat)}\"\u001b[0m\u001b[0;34m)\u001b[0m\u001b[0;34m\u001b[0m\u001b[0;34m\u001b[0m\u001b[0m\n\u001b[0m\u001b[1;32m    122\u001b[0m     \u001b[0;32mif\u001b[0m \u001b[0mlen\u001b[0m\u001b[0;34m(\u001b[0m\u001b[0mkeys\u001b[0m\u001b[0;34m)\u001b[0m \u001b[0;34m>\u001b[0m \u001b[0;36m1\u001b[0m\u001b[0;34m:\u001b[0m\u001b[0;34m\u001b[0m\u001b[0;34m\u001b[0m\u001b[0m\n",
            "\u001b[0;31mOptionError\u001b[0m: No such keys(s): 'io.excel..writer'",
            "\nThe above exception was the direct cause of the following exception:\n",
            "\u001b[0;31mValueError\u001b[0m                                Traceback (most recent call last)",
            "\u001b[0;32m<ipython-input-7-f7a446950e44>\u001b[0m in \u001b[0;36m<cell line: 61>\u001b[0;34m()\u001b[0m\n\u001b[1;32m     63\u001b[0m         \u001b[0mprint\u001b[0m\u001b[0;34m(\u001b[0m\u001b[0mrow\u001b[0m\u001b[0;34m)\u001b[0m\u001b[0;34m\u001b[0m\u001b[0;34m\u001b[0m\u001b[0m\n\u001b[1;32m     64\u001b[0m \u001b[0;34m\u001b[0m\u001b[0m\n\u001b[0;32m---> 65\u001b[0;31m     \u001b[0msave_table_to_excel\u001b[0m\u001b[0;34m(\u001b[0m\u001b[0mtable\u001b[0m\u001b[0;34m,\u001b[0m \u001b[0mexcel_file_path\u001b[0m\u001b[0;34m)\u001b[0m\u001b[0;34m\u001b[0m\u001b[0;34m\u001b[0m\u001b[0m\n\u001b[0m\u001b[1;32m     66\u001b[0m     \u001b[0mprint\u001b[0m\u001b[0;34m(\u001b[0m\u001b[0;34mf\"Table saved to {excel_file_path}\"\u001b[0m\u001b[0;34m)\u001b[0m\u001b[0;34m\u001b[0m\u001b[0;34m\u001b[0m\u001b[0m\n\u001b[1;32m     67\u001b[0m \u001b[0;32melse\u001b[0m\u001b[0;34m:\u001b[0m\u001b[0;34m\u001b[0m\u001b[0;34m\u001b[0m\u001b[0m\n",
            "\u001b[0;32m<ipython-input-7-f7a446950e44>\u001b[0m in \u001b[0;36msave_table_to_excel\u001b[0;34m(table, excel_file_path)\u001b[0m\n\u001b[1;32m     51\u001b[0m \u001b[0;34m\u001b[0m\u001b[0m\n\u001b[1;32m     52\u001b[0m     \u001b[0;31m# Write the DataFrame to an Excel file.\u001b[0m\u001b[0;34m\u001b[0m\u001b[0;34m\u001b[0m\u001b[0m\n\u001b[0;32m---> 53\u001b[0;31m     \u001b[0mdf\u001b[0m\u001b[0;34m.\u001b[0m\u001b[0mto_excel\u001b[0m\u001b[0;34m(\u001b[0m\u001b[0mexcel_file_path\u001b[0m\u001b[0;34m,\u001b[0m \u001b[0mindex\u001b[0m\u001b[0;34m=\u001b[0m\u001b[0;32mFalse\u001b[0m\u001b[0;34m,\u001b[0m \u001b[0mheader\u001b[0m\u001b[0;34m=\u001b[0m\u001b[0;32mFalse\u001b[0m\u001b[0;34m)\u001b[0m\u001b[0;34m\u001b[0m\u001b[0;34m\u001b[0m\u001b[0m\n\u001b[0m\u001b[1;32m     54\u001b[0m \u001b[0;34m\u001b[0m\u001b[0m\n\u001b[1;32m     55\u001b[0m \u001b[0;31m# Example usage:\u001b[0m\u001b[0;34m\u001b[0m\u001b[0;34m\u001b[0m\u001b[0m\n",
            "\u001b[0;32m/usr/local/lib/python3.10/dist-packages/pandas/util/_decorators.py\u001b[0m in \u001b[0;36mwrapper\u001b[0;34m(*args, **kwargs)\u001b[0m\n\u001b[1;32m    209\u001b[0m                 \u001b[0;32melse\u001b[0m\u001b[0;34m:\u001b[0m\u001b[0;34m\u001b[0m\u001b[0;34m\u001b[0m\u001b[0m\n\u001b[1;32m    210\u001b[0m                     \u001b[0mkwargs\u001b[0m\u001b[0;34m[\u001b[0m\u001b[0mnew_arg_name\u001b[0m\u001b[0;34m]\u001b[0m \u001b[0;34m=\u001b[0m \u001b[0mnew_arg_value\u001b[0m\u001b[0;34m\u001b[0m\u001b[0;34m\u001b[0m\u001b[0m\n\u001b[0;32m--> 211\u001b[0;31m             \u001b[0;32mreturn\u001b[0m \u001b[0mfunc\u001b[0m\u001b[0;34m(\u001b[0m\u001b[0;34m*\u001b[0m\u001b[0margs\u001b[0m\u001b[0;34m,\u001b[0m \u001b[0;34m**\u001b[0m\u001b[0mkwargs\u001b[0m\u001b[0;34m)\u001b[0m\u001b[0;34m\u001b[0m\u001b[0;34m\u001b[0m\u001b[0m\n\u001b[0m\u001b[1;32m    212\u001b[0m \u001b[0;34m\u001b[0m\u001b[0m\n\u001b[1;32m    213\u001b[0m         \u001b[0;32mreturn\u001b[0m \u001b[0mcast\u001b[0m\u001b[0;34m(\u001b[0m\u001b[0mF\u001b[0m\u001b[0;34m,\u001b[0m \u001b[0mwrapper\u001b[0m\u001b[0;34m)\u001b[0m\u001b[0;34m\u001b[0m\u001b[0;34m\u001b[0m\u001b[0m\n",
            "\u001b[0;32m/usr/local/lib/python3.10/dist-packages/pandas/util/_decorators.py\u001b[0m in \u001b[0;36mwrapper\u001b[0;34m(*args, **kwargs)\u001b[0m\n\u001b[1;32m    209\u001b[0m                 \u001b[0;32melse\u001b[0m\u001b[0;34m:\u001b[0m\u001b[0;34m\u001b[0m\u001b[0;34m\u001b[0m\u001b[0m\n\u001b[1;32m    210\u001b[0m                     \u001b[0mkwargs\u001b[0m\u001b[0;34m[\u001b[0m\u001b[0mnew_arg_name\u001b[0m\u001b[0;34m]\u001b[0m \u001b[0;34m=\u001b[0m \u001b[0mnew_arg_value\u001b[0m\u001b[0;34m\u001b[0m\u001b[0;34m\u001b[0m\u001b[0m\n\u001b[0;32m--> 211\u001b[0;31m             \u001b[0;32mreturn\u001b[0m \u001b[0mfunc\u001b[0m\u001b[0;34m(\u001b[0m\u001b[0;34m*\u001b[0m\u001b[0margs\u001b[0m\u001b[0;34m,\u001b[0m \u001b[0;34m**\u001b[0m\u001b[0mkwargs\u001b[0m\u001b[0;34m)\u001b[0m\u001b[0;34m\u001b[0m\u001b[0;34m\u001b[0m\u001b[0m\n\u001b[0m\u001b[1;32m    212\u001b[0m \u001b[0;34m\u001b[0m\u001b[0m\n\u001b[1;32m    213\u001b[0m         \u001b[0;32mreturn\u001b[0m \u001b[0mcast\u001b[0m\u001b[0;34m(\u001b[0m\u001b[0mF\u001b[0m\u001b[0;34m,\u001b[0m \u001b[0mwrapper\u001b[0m\u001b[0;34m)\u001b[0m\u001b[0;34m\u001b[0m\u001b[0;34m\u001b[0m\u001b[0m\n",
            "\u001b[0;32m/usr/local/lib/python3.10/dist-packages/pandas/core/generic.py\u001b[0m in \u001b[0;36mto_excel\u001b[0;34m(self, excel_writer, sheet_name, na_rep, float_format, columns, header, index, index_label, startrow, startcol, engine, merge_cells, encoding, inf_rep, verbose, freeze_panes, storage_options)\u001b[0m\n\u001b[1;32m   2372\u001b[0m             \u001b[0minf_rep\u001b[0m\u001b[0;34m=\u001b[0m\u001b[0minf_rep\u001b[0m\u001b[0;34m,\u001b[0m\u001b[0;34m\u001b[0m\u001b[0;34m\u001b[0m\u001b[0m\n\u001b[1;32m   2373\u001b[0m         )\n\u001b[0;32m-> 2374\u001b[0;31m         formatter.write(\n\u001b[0m\u001b[1;32m   2375\u001b[0m             \u001b[0mexcel_writer\u001b[0m\u001b[0;34m,\u001b[0m\u001b[0;34m\u001b[0m\u001b[0;34m\u001b[0m\u001b[0m\n\u001b[1;32m   2376\u001b[0m             \u001b[0msheet_name\u001b[0m\u001b[0;34m=\u001b[0m\u001b[0msheet_name\u001b[0m\u001b[0;34m,\u001b[0m\u001b[0;34m\u001b[0m\u001b[0;34m\u001b[0m\u001b[0m\n",
            "\u001b[0;32m/usr/local/lib/python3.10/dist-packages/pandas/io/formats/excel.py\u001b[0m in \u001b[0;36mwrite\u001b[0;34m(self, writer, sheet_name, startrow, startcol, freeze_panes, engine, storage_options)\u001b[0m\n\u001b[1;32m    942\u001b[0m             \u001b[0;31m# error: Cannot instantiate abstract class 'ExcelWriter' with abstract\u001b[0m\u001b[0;34m\u001b[0m\u001b[0;34m\u001b[0m\u001b[0m\n\u001b[1;32m    943\u001b[0m             \u001b[0;31m# attributes 'engine', 'save', 'supported_extensions' and 'write_cells'\u001b[0m\u001b[0;34m\u001b[0m\u001b[0;34m\u001b[0m\u001b[0m\n\u001b[0;32m--> 944\u001b[0;31m             writer = ExcelWriter(  # type: ignore[abstract]\n\u001b[0m\u001b[1;32m    945\u001b[0m                 \u001b[0mwriter\u001b[0m\u001b[0;34m,\u001b[0m \u001b[0mengine\u001b[0m\u001b[0;34m=\u001b[0m\u001b[0mengine\u001b[0m\u001b[0;34m,\u001b[0m \u001b[0mstorage_options\u001b[0m\u001b[0;34m=\u001b[0m\u001b[0mstorage_options\u001b[0m\u001b[0;34m\u001b[0m\u001b[0;34m\u001b[0m\u001b[0m\n\u001b[1;32m    946\u001b[0m             )\n",
            "\u001b[0;32m/usr/local/lib/python3.10/dist-packages/pandas/io/excel/_base.py\u001b[0m in \u001b[0;36m__new__\u001b[0;34m(cls, path, engine, date_format, datetime_format, mode, storage_options, if_sheet_exists, engine_kwargs, **kwargs)\u001b[0m\n\u001b[1;32m   1146\u001b[0m                         \u001b[0mengine\u001b[0m \u001b[0;34m=\u001b[0m \u001b[0mget_default_engine\u001b[0m\u001b[0;34m(\u001b[0m\u001b[0mext\u001b[0m\u001b[0;34m,\u001b[0m \u001b[0mmode\u001b[0m\u001b[0;34m=\u001b[0m\u001b[0;34m\"writer\"\u001b[0m\u001b[0;34m)\u001b[0m\u001b[0;34m\u001b[0m\u001b[0;34m\u001b[0m\u001b[0m\n\u001b[1;32m   1147\u001b[0m                 \u001b[0;32mexcept\u001b[0m \u001b[0mKeyError\u001b[0m \u001b[0;32mas\u001b[0m \u001b[0merr\u001b[0m\u001b[0;34m:\u001b[0m\u001b[0;34m\u001b[0m\u001b[0;34m\u001b[0m\u001b[0m\n\u001b[0;32m-> 1148\u001b[0;31m                     \u001b[0;32mraise\u001b[0m \u001b[0mValueError\u001b[0m\u001b[0;34m(\u001b[0m\u001b[0;34mf\"No engine for filetype: '{ext}'\"\u001b[0m\u001b[0;34m)\u001b[0m \u001b[0;32mfrom\u001b[0m \u001b[0merr\u001b[0m\u001b[0;34m\u001b[0m\u001b[0;34m\u001b[0m\u001b[0m\n\u001b[0m\u001b[1;32m   1149\u001b[0m \u001b[0;34m\u001b[0m\u001b[0m\n\u001b[1;32m   1150\u001b[0m             \u001b[0;32mif\u001b[0m \u001b[0mengine\u001b[0m \u001b[0;34m==\u001b[0m \u001b[0;34m\"xlwt\"\u001b[0m\u001b[0;34m:\u001b[0m\u001b[0;34m\u001b[0m\u001b[0;34m\u001b[0m\u001b[0m\n",
            "\u001b[0;31mValueError\u001b[0m: No engine for filetype: ''"
          ]
        }
      ]
    },
    {
      "cell_type": "code",
      "source": [
        "!pip install openpyxl"
      ],
      "metadata": {
        "colab": {
          "base_uri": "https://localhost:8080/"
        },
        "id": "wZkqfhpAoqGZ",
        "outputId": "7f6b9d6d-bb39-4b5b-fc6f-b17c03b91b82"
      },
      "execution_count": null,
      "outputs": [
        {
          "output_type": "stream",
          "name": "stdout",
          "text": [
            "Requirement already satisfied: openpyxl in /usr/local/lib/python3.10/dist-packages (3.0.10)\n",
            "Requirement already satisfied: et-xmlfile in /usr/local/lib/python3.10/dist-packages (from openpyxl) (1.1.0)\n"
          ]
        }
      ]
    },
    {
      "cell_type": "code",
      "source": [
        "import tabula\n",
        "import pandas as pd\n",
        "\n",
        "def extract_table_from_pdf(pdf_path, page_number):\n",
        "    \"\"\"\n",
        "    Extracts the table from a specific page of a PDF.\n",
        "\n",
        "    Args:\n",
        "        pdf_path (str): Path to the PDF file.\n",
        "        page_number (int): Page number from which to extract the table (1-indexed).\n",
        "\n",
        "    Returns:\n",
        "        list: List of lists representing the table, or None if no table is found.\n",
        "    \"\"\"\n",
        "    try:\n",
        "        # Use tabula to extract the tables from the specified page.\n",
        "        tables = tabula.read_pdf(pdf_path, pages=page_number, multiple_tables=True, stream=True)\n",
        "\n",
        "        if tables:\n",
        "            # For simplicity, assuming the first table in the page is the target table.\n",
        "            # You can further analyze and choose the appropriate table if multiple tables are found.\n",
        "            target_table = tables[0]\n",
        "\n",
        "            # Convert the DataFrame to a list of lists.\n",
        "            extracted_table = target_table.values.tolist()\n",
        "\n",
        "            # Remove empty rows from the extracted table.\n",
        "            extracted_table = [row for row in extracted_table if any(isinstance(cell, str) and cell.strip() for cell in row)]\n",
        "\n",
        "            return extracted_table\n",
        "\n",
        "    except Exception as e:\n",
        "        print(f\"Error occurred while extracting the table: {e}\")\n",
        "\n",
        "    return None\n",
        "\n",
        "def save_table_to_excel(table, excel_file_path):\n",
        "    if not table:\n",
        "        print(\"No table to save.\")\n",
        "        return\n",
        "\n",
        "    df = pd.DataFrame(table)\n",
        "\n",
        "    # Write the DataFrame to an Excel file using 'openpyxl' engine.\n",
        "    df.to_excel(excel_file_path, index=False, header=False, engine='openpyxl')\n",
        "\n",
        "# Example usage: (same as before) ...\n",
        "\n",
        "pdf_file_path = \"/content/AISHE Final Report 2020-21.pdf\"\n",
        "page_number_to_extract = 51\n",
        "excel_file_path = \"/content/TableOutput.xlsx\"\n",
        "\n",
        "table = extract_table_from_pdf(pdf_file_path, page_number_to_extract)\n",
        "if table:\n",
        "    for row in table:\n",
        "        print(row)\n",
        "\n",
        "    save_table_to_excel(table, excel_file_path)\n",
        "    print(f\"Table saved to {excel_file_path}\")\n",
        "else:\n",
        "    print(\"No table found on the specified page.\")"
      ],
      "metadata": {
        "colab": {
          "base_uri": "https://localhost:8080/"
        },
        "id": "mluJiHUdpkpv",
        "outputId": "8872af3a-5fef-4bc0-e69f-66c5efcdea09"
      },
      "execution_count": null,
      "outputs": [
        {
          "output_type": "stream",
          "name": "stdout",
          "text": [
            "[nan, 'Academic', nan, 'Professional', nan]\n",
            "['Level', 'Management', nan, nan, nan]\n",
            "[nan, 'Male Female Total Male', nan, 'Female', 'Total']\n",
            "[nan, 'Government 5563993 5699193 11263186 1063598', nan, '693806', '1757404']\n",
            "['Under', nan, nan, nan, nan]\n",
            "[nan, 'Government-Aided 2161695 2466707 4628402 411225', nan, '346323', '757548']\n",
            "['Graduate', nan, nan, nan, nan]\n",
            "[nan, 'Private 3140890 3262765 6403655 3628170', nan, '2608620', '6236790']\n",
            "[nan, 'Government 789418 1194473 1983891 266208', nan, '205386', '471594']\n",
            "['Post', nan, nan, nan, nan]\n",
            "[nan, 'Government-Aided 163045 316329 479374 38494', nan, '39963', '78457']\n",
            "['Graduate', nan, nan, nan, nan]\n",
            "[nan, 'Private 229420 356927 586347 430501', nan, '368415', '798916']\n",
            "Table saved to /content/TableOutput.xlsx\n"
          ]
        }
      ]
    },
    {
      "cell_type": "code",
      "source": [
        "import tabula\n",
        "import pandas as pd\n",
        "\n",
        "def extract_table_columnwise(pdf_path, page_number):\n",
        "    try:\n",
        "        # Use tabula to extract the tables from the specified page.\n",
        "        tables = tabula.read_pdf(pdf_path, pages=page_number, multiple_tables=False, stream=True)\n",
        "\n",
        "        if tables:\n",
        "            # For simplicity, assuming the first table in the page is the target table.\n",
        "            # You can further analyze and choose the appropriate table if multiple tables are found.\n",
        "            target_table = tables[0]\n",
        "\n",
        "            # Initialize an empty dictionary to store the column-wise data.\n",
        "            column_wise_data = {}\n",
        "\n",
        "            # Iterate through each column in the DataFrame.\n",
        "            for column_name in target_table.columns:\n",
        "                column_data = target_table[column_name].tolist()\n",
        "                column_wise_data[column_name] = column_data\n",
        "\n",
        "            return column_wise_data\n",
        "\n",
        "    except Exception as e:\n",
        "        print(f\"Error occurred while extracting the table: {e}\")\n",
        "\n",
        "    return None\n",
        "\n",
        "def save_table_to_excel(table, excel_file_path):\n",
        "    if not table:\n",
        "        print(\"No table to save.\")\n",
        "        return\n",
        "\n",
        "    # Convert the dictionary to a pandas DataFrame.\n",
        "    df = pd.DataFrame(table)\n",
        "\n",
        "    # Write the DataFrame to an Excel file using 'openpyxl' engine.\n",
        "    df.to_excel(excel_file_path, index=False, engine='openpyxl')\n",
        "\n",
        "# Example usage:\n",
        "pdf_file_path = \"/content/AISHE Final Report 2020-21.pdf\"\n",
        "page_number_to_extract = 51\n",
        "excel_file_path = \"/content/TO1.xlsx\"\n",
        "\n",
        "table = extract_table_columnwise(pdf_file_path, page_number_to_extract)\n",
        "if table:\n",
        "    print(table)\n",
        "\n",
        "    save_table_to_excel(table, excel_file_path)\n",
        "    print(f\"Table saved to {excel_file_path}\")\n",
        "else:\n",
        "    print(\"No table found on the specified page.\")\n"
      ],
      "metadata": {
        "colab": {
          "base_uri": "https://localhost:8080/"
        },
        "id": "vLz0qLVWp8lS",
        "outputId": "4be1d103-2919-455e-9e65-51176a91041d"
      },
      "execution_count": null,
      "outputs": [
        {
          "output_type": "stream",
          "name": "stdout",
          "text": [
            "{'Unnamed: 0': [nan, 'Level', nan, nan, 'Under', nan, 'Graduate', nan, nan, 'Post', nan, 'Graduate', nan], 'Box 11: Enrolment in Professional Courses': ['Academic', 'Management', 'Male Female Total Male', 'Government 5563993 5699193 11263186 1063598', nan, 'Government-Aided 2161695 2466707 4628402 411225', nan, 'Private 3140890 3262765 6403655 3628170', 'Government 789418 1194473 1983891 266208', nan, 'Government-Aided 163045 316329 479374 38494', nan, 'Private 229420 356927 586347 430501'], 'Unnamed: 2': [nan, nan, nan, nan, nan, nan, nan, nan, nan, nan, nan, nan, nan], 'Unnamed: 3': ['Professional', nan, 'Female', '693806', nan, '346323', nan, '2608620', '205386', nan, '39963', nan, '368415'], 'Unnamed: 4': [nan, nan, 'Total', '1757404', nan, '757548', nan, '6236790', '471594', nan, '78457', nan, '798916']}\n",
            "Table saved to /content/TO1.xlsx\n"
          ]
        }
      ]
    },
    {
      "cell_type": "code",
      "source": [],
      "metadata": {
        "id": "txQ_fjUHsD_B"
      },
      "execution_count": null,
      "outputs": []
    }
  ]
}