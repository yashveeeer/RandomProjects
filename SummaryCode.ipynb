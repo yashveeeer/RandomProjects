{
  "nbformat": 4,
  "nbformat_minor": 0,
  "metadata": {
    "colab": {
      "provenance": [],
      "authorship_tag": "ABX9TyOhyuATRUYZckpYTPkic1zb",
      "include_colab_link": true
    },
    "kernelspec": {
      "name": "python3",
      "display_name": "Python 3"
    },
    "language_info": {
      "name": "python"
    }
  },
  "cells": [
    {
      "cell_type": "markdown",
      "metadata": {
        "id": "view-in-github",
        "colab_type": "text"
      },
      "source": [
        "<a href=\"https://colab.research.google.com/github/yashveeeer/RandomProjects/blob/main/SummaryCode.ipynb\" target=\"_parent\"><img src=\"https://colab.research.google.com/assets/colab-badge.svg\" alt=\"Open In Colab\"/></a>"
      ]
    },
    {
      "cell_type": "code",
      "source": [
        "import nltk\n",
        "from nltk.corpus import stopwords\n",
        "from nltk.tokenize import word_tokenize, sent_tokenize\n",
        "from nltk.stem import PorterStemmer"
      ],
      "metadata": {
        "colab": {
          "base_uri": "https://localhost:8080/"
        },
        "id": "JonYVc080W26",
        "outputId": "c141e32e-3950-4cb1-e60c-c5cd05df73e5"
      },
      "execution_count": null,
      "outputs": [
        {
          "output_type": "stream",
          "name": "stderr",
          "text": [
            "[nltk_data] Downloading package punkt to /root/nltk_data...\n",
            "[nltk_data]   Package punkt is already up-to-date!\n",
            "[nltk_data] Downloading package stopwords to /root/nltk_data...\n",
            "[nltk_data]   Unzipping corpora/stopwords.zip.\n"
          ]
        },
        {
          "output_type": "execute_result",
          "data": {
            "text/plain": [
              "True"
            ]
          },
          "metadata": {},
          "execution_count": 7
        }
      ]
    },
    {
      "cell_type": "code",
      "source": [
        "nltk.download('punkt')\n",
        "nltk.download('stopwords')"
      ],
      "metadata": {
        "colab": {
          "base_uri": "https://localhost:8080/"
        },
        "id": "qpxk305p2bvE",
        "outputId": "0058d789-f927-43dc-aad2-a3a17bbcef0a"
      },
      "execution_count": null,
      "outputs": [
        {
          "output_type": "stream",
          "name": "stderr",
          "text": [
            "[nltk_data] Downloading package punkt to /root/nltk_data...\n",
            "[nltk_data]   Package punkt is already up-to-date!\n",
            "[nltk_data] Downloading package stopwords to /root/nltk_data...\n",
            "[nltk_data]   Package stopwords is already up-to-date!\n"
          ]
        },
        {
          "output_type": "execute_result",
          "data": {
            "text/plain": [
              "True"
            ]
          },
          "metadata": {},
          "execution_count": 8
        }
      ]
    },
    {
      "cell_type": "code",
      "execution_count": null,
      "metadata": {
        "colab": {
          "base_uri": "https://localhost:8080/"
        },
        "id": "M11aJXwv0NIF",
        "outputId": "db8e820a-3933-41ec-cce0-5ce712fe7695"
      },
      "outputs": [
        {
          "output_type": "stream",
          "name": "stdout",
          "text": [
            "He defeated Buddharaja, the Kalacuri king, who was ruling in North Maharastra, Konkan, Gujarat and Malva, and also Svamiraja of the Calukya family, who was ruling over the Revati-dvipa (modern Redi in Konkan) [Mirashi, C. I. I., Vol. The following provinces are specifically mentioned as comprised in his dominion: Rsika (Khandes), Asmaka (Ahmadnagar and Bid districts), Mulaka (Aurangabad district), Vidarbha, Akara and Avanti (Eastern and Western Malva), Kukura (South-eastern Rajputana), Suratha (Kathiavad) and Aparanta (Konkan). He performed several other Srauta sacrifices such as Agnyadheya, Aptoryama, Dasaratra, Trayodasaratra, Angirasatriratra, Satatiratra and Gavamayana, all of which were marked by munificent gifts of horses, elephants, land and karsapanas. In earlier days, however, the districts of Kolhapur, Satara, Solapur, Ahmadnagar and Bid, which are now Marathi-speaking, were included in Kuntala. Hemadri is well known as the author of the Caturvargacintamani comprising five parts, viz., (1) Vratakhanda, (2) Danakhanda, (3) Tirthakhanda, (4) Moksakhanda and (5) Parisesakhanda. The Ellora cave inscription records his victories over the rulers of Kanci, Kosala, Kalinga, Srisaila, Malava, Tanka and Lata, but these do not all seem to have resulted in the acquisition of new territory. The Arabs had already defeated the Saindhavas, the Kacchellas, the Cavotakas, the Surastras, the Mauryas and the Gurjaras and were attempting to penetrate into the Daksinapatha, but Avanijanasraya (Pulakesin) inflicted a crushing defeat on the invaders. Through the influence of Candragupta II, the two royal families of the South, viz., the Vakatakas and the early Rastrakutas were soon reconciled with each other [Mirashi, S. I., Vol. Two of these are so far known—(1) Gautamiputra, whose descendants ruled over north Vidarbha from their capital Nandivardhana (Nandardhan near Nagpur) and (2) Sarvasena, who ruled over south Vidarbha from Vatsa-gulma (modern Basim in the Akola district) [Mirashi C.I.I., Vol. He then returned to the Narmada and marching along the bank of the river, he conquered the Malava, Kosala, Kalinga, Vanga, Dahala and Odra countries. He defeated the rulers of several countries such as North Konkan, Kosala (Chattisgad), Kalinga (Orissa), Pistapura (Pithapuram) and Kanci (Canjeeverum). It is noteworthy that in the story of Visruta included in the Dasakumaracarita, which seems to have had a historical basis, the king of Kuntala appears as a feudatory of the Emperor of Vidarbha [Ibid., Vol I, pp. Vedisri, who succeeded him, is described as a very brave prince whose army was always victorious and who became the lord of Daksinapatha (Deccan [Mirashi, S.I., Vol. In the hoard of potin coins found at Tarhala in the Aokla district, out of 1,200 decipherable coins, as many as 573 were of Gautamiputra [Mirashi, S. I., Vol. He is said to have defeated with ease the ruler of Dahala (i.e., the Cedi country with the capital Tripuri), subjugated the ruler of Bhandagara (modern Bhandara in Vidarbha), and dethroned the king of Vijrakara (modern Vairagadh). It is that of king Hala, the reputed author of the Gathasaptasati, a unique collection of seven hundred Prakrt verses descriptive of the social, religious and economic life of the period [Ibid, Vol. It shows that Jagaddeva, the youngest son of the Paramara king Udayaditya, the brother of Bhoja, left Malva and sought service with Vikramaditya VI, who welcomed him and placed him in charge of some portion of Western Vidarbha. Tailapa III, the last Calukya king, was overthrown by the Kalacuri Bijjala, who was his Commander-in-Chief, in A.D. 1157. Nahapana, a Saka Ksatrapa probably appointed by the contemporary Kusana Emperor, was ruling over Konkan, Poona, Nasik and some other districts of Western Maharashtra as also some portions of Central India as far north as Ajmer. He may have conquered the northern part of Kuntala comprising Poona, Ahmadnagar, Satara, Solapur, Bid and some other districts in the Deccan though definite proof of this is lacking. Suttanipata, Parayanavaggo, Vatthugatha, 5, 2]. Some time thereafter, Harapaladeva, the son-in-law of Ramacandra, raised an insurrection and drove away the Muhammedans, but his success was short-lived. Moreover, they inebriate many hundred heads of elephants, which rushing forward in mass, trample every thing down, so that no enemy can stand before them. Recently, another copper-plate grant of his, dated in the Saka year 851 (A.D. 929), has been discovered at the village Andura in the Akola district of Vidarbha [Ep. We get considerable information about him from the four stone inscriptions of his general Kholesvara, found at Ambejogai in the Bid district [G. H. Khare, Sources of the Mediaeval History of the Deccan (Marathi), Vol. The Calukya Emperor then honoured Avanijanasraya with several titles, one of which was Anivartaka-nivartayitr (the repellar of the unrepellable) [Mirashi, C.I.I., Vol. They had been ruling over Seunadesa (Khandes) in an earlier period as feudatories of the Later Calukyas, but Bhillama, the son of Mallugi, declared his independence and soon made himself master of the whole territory north of the Krsna. When he returned, he reported to Vikramaditya that the lord of Kuntala was spending his time in enjoyment, throwing the responsibility of governing the kingdom on him (i.e., Vikramaditya). That his empire extended much further is shown by the description that the mountains Setagiri (near Nagarjunikonda), Sristana (Kurnul district) and Mahendra (between the Godavari and the Krsna), were situated in his kingdom [Ibid Vol. The next ruler of the dynasty was Satakarni I, who is also known from a relievo figure now mutilated in a Naneghat cave [Mirashi, S. I., Vol.\n"
          ]
        }
      ],
      "source": [
        "def generate_summary(file_path, num_sentences):\n",
        "    # Read the text file\n",
        "    with open(file_path, 'r') as file:\n",
        "        text = file.read()\n",
        "\n",
        "    # Tokenize the text into sentences\n",
        "    sentences = sent_tokenize(text)\n",
        "\n",
        "    # Tokenize the text into words\n",
        "    words = word_tokenize(text)\n",
        "\n",
        "    # Remove stop words\n",
        "    stop_words = set(stopwords.words('english'))\n",
        "    words = [word for word in words if word.casefold() not in stop_words]\n",
        "\n",
        "    # Stem the words\n",
        "    stemmer = PorterStemmer()\n",
        "    words = [stemmer.stem(word) for word in words]\n",
        "\n",
        "    # Calculate word frequencies\n",
        "    word_freq = nltk.FreqDist(words)\n",
        "\n",
        "    # Assign scores to sentences based on word frequencies\n",
        "    sentence_scores = {}\n",
        "    for i, sentence in enumerate(sentences):\n",
        "        for word in word_tokenize(sentence.lower()):\n",
        "            if word in word_freq:\n",
        "                if i in sentence_scores:\n",
        "                    sentence_scores[i] += word_freq[word]\n",
        "                else:\n",
        "                    sentence_scores[i] = word_freq[word]\n",
        "\n",
        "    # Sort sentences based on scores\n",
        "    sorted_sentences = sorted(sentence_scores, key=sentence_scores.get, reverse=True)\n",
        "\n",
        "    # Generate the summary\n",
        "    summary = ' '.join([sentences[i] for i in sorted_sentences[:num_sentences]])\n",
        "    return summary\n",
        "\n",
        "# Specify the file path and the number of sentences in the summary\n",
        "file_path = '/content/Beed.txt'\n",
        "num_sentences = 30\n",
        "\n",
        "# Generate the summary\n",
        "summary = generate_summary(file_path, num_sentences)\n",
        "\n",
        "# Print the summary\n",
        "print(summary)\n"
      ]
    }
  ]
}